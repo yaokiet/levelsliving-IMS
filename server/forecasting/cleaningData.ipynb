{
 "cells": [
  {
   "cell_type": "code",
   "execution_count": 2,
   "metadata": {},
   "outputs": [
    {
     "name": "stdout",
     "output_type": "stream",
     "text": [
      "Collecting pandas\n",
      "  Downloading pandas-2.3.3-cp312-cp312-macosx_11_0_arm64.whl.metadata (91 kB)\n",
      "Collecting numpy>=1.26.0 (from pandas)\n",
      "  Downloading numpy-2.3.4-cp312-cp312-macosx_14_0_arm64.whl.metadata (62 kB)\n",
      "Requirement already satisfied: python-dateutil>=2.8.2 in /Users/joelsng/Documents/GitHub/levelsliving-IMS/.venv/lib/python3.12/site-packages (from pandas) (2.9.0.post0)\n",
      "Collecting pytz>=2020.1 (from pandas)\n",
      "  Using cached pytz-2025.2-py2.py3-none-any.whl.metadata (22 kB)\n",
      "Collecting tzdata>=2022.7 (from pandas)\n",
      "  Using cached tzdata-2025.2-py2.py3-none-any.whl.metadata (1.4 kB)\n",
      "Requirement already satisfied: six>=1.5 in /Users/joelsng/Documents/GitHub/levelsliving-IMS/.venv/lib/python3.12/site-packages (from python-dateutil>=2.8.2->pandas) (1.17.0)\n",
      "Downloading pandas-2.3.3-cp312-cp312-macosx_11_0_arm64.whl (10.7 MB)\n",
      "\u001b[2K   \u001b[90m━━━━━━━━━━━━━━━━━━━━━━━━━━━━━━━━━━━━━━━━\u001b[0m \u001b[32m10.7/10.7 MB\u001b[0m \u001b[31m3.9 MB/s\u001b[0m  \u001b[33m0:00:02\u001b[0m eta \u001b[36m0:00:01\u001b[0m\n",
      "\u001b[?25hDownloading numpy-2.3.4-cp312-cp312-macosx_14_0_arm64.whl (5.1 MB)\n",
      "\u001b[2K   \u001b[90m━━━━━━━━━━━━━━━━━━━━━━━━━━━━━━━━━━━━━━━━\u001b[0m \u001b[32m5.1/5.1 MB\u001b[0m \u001b[31m3.0 MB/s\u001b[0m  \u001b[33m0:00:01\u001b[0m eta \u001b[36m0:00:01\u001b[0m\n",
      "\u001b[?25hUsing cached pytz-2025.2-py2.py3-none-any.whl (509 kB)\n",
      "Using cached tzdata-2025.2-py2.py3-none-any.whl (347 kB)\n",
      "Installing collected packages: pytz, tzdata, numpy, pandas\n",
      "\u001b[2K   \u001b[90m━━━━━━━━━━━━━━━━━━━━━━━━━━━━━━━━━━━━━━━━\u001b[0m \u001b[32m4/4\u001b[0m [pandas]2m3/4\u001b[0m [pandas]\n",
      "\u001b[1A\u001b[2KSuccessfully installed numpy-2.3.4 pandas-2.3.3 pytz-2025.2 tzdata-2025.2\n",
      "Note: you may need to restart the kernel to use updated packages.\n"
     ]
    }
   ],
   "source": [
    "%pip install pandas"
   ]
  },
  {
   "cell_type": "code",
   "execution_count": 3,
   "metadata": {},
   "outputs": [],
   "source": [
    "import pandas as pd"
   ]
  },
  {
   "cell_type": "code",
   "execution_count": 12,
   "metadata": {},
   "outputs": [
    {
     "name": "stderr",
     "output_type": "stream",
     "text": [
      "/var/folders/tk/ptln5ljx66g1yqhg_dd36_200000gn/T/ipykernel_41251/1325749730.py:1: DtypeWarning: Columns (45) have mixed types. Specify dtype option on import or set low_memory=False.\n",
      "  df = pd.read_csv(\"sampleData/sheets_archive_old_raw.csv\")\n"
     ]
    }
   ],
   "source": [
    "df = pd.read_csv(\"sampleData/sheets_archive_old_raw.csv\")\n",
    "\n",
    "# Extract and transform\n",
    "new_df = pd.DataFrame({\n",
    "    \"Order Date\": pd.to_datetime(df[\"Created at\"]),\n",
    "    \"SKU\": df[\"Lineitem sku\"],\n",
    "    \"Item\": df[\"Lineitem name\"],\n",
    "    \"Variant\": df[\"Lineitem name\"].apply(lambda x: x.split(\" - \")[1] if \" - \" in str(x) else \"\"),\n",
    "    \"Quantity\": df[\"Lineitem quantity\"],\n",
    "    \"Delivery Date\": pd.to_datetime(df[\"Fulfilled at\"]),\n",
    "    \"Delivery Time\": pd.to_datetime(df[\"Fulfilled at\"]),\n",
    "})\n",
    "\n",
    "# Save simplified file\n",
    "new_df.to_csv(\"sampleData/sheets_archive_old.csv\", index=False)"
   ]
  },
  {
   "cell_type": "code",
   "execution_count": 18,
   "metadata": {},
   "outputs": [],
   "source": [
    "df = pd.read_csv(\"sampleData/lark_raw.csv\")\n",
    "\n",
    "# Extract and transform\n",
    "new_df = pd.DataFrame({\n",
    "    \"Order Date\": pd.to_datetime(df[\"Order Date\"]),\n",
    "    \"SKU\": df[\"SKU\"],\n",
    "    \"Item\": df[\"Item\"],\n",
    "    \"Variant\": df[\"Variant\"],\n",
    "    \"Quantity\": df[\"Quantity\"],\n",
    "    \"Delivery Date\": pd.to_datetime(df[\"Delivery Date\"]),\n",
    "    \"Delivery Time\": pd.to_datetime(df[\"Delivery Date\"]),\n",
    "})\n",
    "# Save simplified file\n",
    "new_df.to_csv(\"sampleData/lark.csv\", index=False)"
   ]
  },
  {
   "cell_type": "code",
   "execution_count": 9,
   "metadata": {},
   "outputs": [],
   "source": [
    "df = pd.read_csv(\"sampleData/lark_raw.csv\")\n",
    "\n",
    "# Extract and transform\n",
    "new_df_lark = pd.DataFrame({\n",
    "    \"Order Date\": pd.to_datetime(df[\"Order Date\"]).dt.date,\n",
    "    \"SKU\": df[\"SKU\"],\n",
    "    \"Item\": df[\"Item\"],\n",
    "    \"Variant\": df[\"Variant\"],\n",
    "    \"Quantity\": df[\"Quantity\"],\n",
    "    \"Delivery Date\": pd.to_datetime(df[\"Delivery Date\"], errors=\"coerce\").dt.date,\n",
    "    \"Delivery Time\": pd.to_datetime(df[\"Delivery Date\"], errors=\"coerce\").dt.strftime(\"%H:%M:%S\"),\n",
    "})\n",
    "\n",
    "# Save simplified file\n",
    "new_df_lark.to_csv(\"sampleData/lark.csv\", index=False)"
   ]
  }
 ],
 "metadata": {
  "kernelspec": {
   "display_name": ".venv",
   "language": "python",
   "name": "python3"
  },
  "language_info": {
   "codemirror_mode": {
    "name": "ipython",
    "version": 3
   },
   "file_extension": ".py",
   "mimetype": "text/x-python",
   "name": "python",
   "nbconvert_exporter": "python",
   "pygments_lexer": "ipython3",
   "version": "3.12.7"
  }
 },
 "nbformat": 4,
 "nbformat_minor": 2
}
