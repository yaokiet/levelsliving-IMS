{
 "cells": [
  {
   "cell_type": "code",
   "execution_count": 1,
   "metadata": {},
   "outputs": [
    {
     "name": "stdout",
     "output_type": "stream",
     "text": [
      "Collecting pandas\n",
      "  Using cached pandas-2.3.3-cp39-cp39-macosx_11_0_arm64.whl (10.8 MB)\n",
      "Collecting pytz>=2020.1\n",
      "  Using cached pytz-2025.2-py2.py3-none-any.whl (509 kB)\n",
      "Collecting numpy>=1.22.4\n",
      "  Using cached numpy-2.0.2-cp39-cp39-macosx_14_0_arm64.whl (5.3 MB)\n",
      "Requirement already satisfied: python-dateutil>=2.8.2 in /Users/joelsng/.pyenv/versions/3.9.12/lib/python3.9/site-packages (from pandas) (2.9.0.post0)\n",
      "Collecting tzdata>=2022.7\n",
      "  Using cached tzdata-2025.2-py2.py3-none-any.whl (347 kB)\n",
      "Requirement already satisfied: six>=1.5 in /Users/joelsng/.pyenv/versions/3.9.12/lib/python3.9/site-packages (from python-dateutil>=2.8.2->pandas) (1.17.0)\n",
      "Installing collected packages: pytz, tzdata, numpy, pandas\n",
      "Successfully installed numpy-2.0.2 pandas-2.3.3 pytz-2025.2 tzdata-2025.2\n",
      "\u001b[33mWARNING: You are using pip version 22.0.4; however, version 25.3 is available.\n",
      "You should consider upgrading via the '/Users/joelsng/.pyenv/versions/3.9.12/bin/python -m pip install --upgrade pip' command.\u001b[0m\u001b[33m\n",
      "\u001b[0mNote: you may need to restart the kernel to use updated packages.\n"
     ]
    }
   ],
   "source": [
    "%pip install pandas"
   ]
  },
  {
   "cell_type": "code",
   "execution_count": 2,
   "metadata": {},
   "outputs": [],
   "source": [
    "import pandas as pd"
   ]
  },
  {
   "cell_type": "code",
   "execution_count": 4,
   "metadata": {},
   "outputs": [
    {
     "name": "stderr",
     "output_type": "stream",
     "text": [
      "/var/folders/tk/ptln5ljx66g1yqhg_dd36_200000gn/T/ipykernel_61535/3173040208.py:1: DtypeWarning: Columns (45) have mixed types. Specify dtype option on import or set low_memory=False.\n",
      "  df = pd.read_csv(\"sampleData/sheets_archive_old_raw.csv\")\n"
     ]
    }
   ],
   "source": [
    "df = pd.read_csv(\"sampleData/sheets_archive_old_raw.csv\")\n",
    "\n",
    "# Extract and transform\n",
    "new_df = pd.DataFrame({\n",
    "    \"Order Date\": pd.to_datetime(df[\"Created at\"]),\n",
    "    \"SKU\": df[\"Lineitem sku\"],\n",
    "    \"Item\": df[\"Lineitem name\"],\n",
    "    \"Variant\": df[\"Lineitem name\"].apply(lambda x: x.split(\" - \")[1] if \" - \" in str(x) else \"\"),\n",
    "    \"Quantity\": df[\"Lineitem quantity\"],\n",
    "    \"Value\": df[\"Total\"],\n",
    "    \"Delivery Date\": pd.to_datetime(df[\"Fulfilled at\"]),\n",
    "    \"Delivery Time\": pd.to_datetime(df[\"Fulfilled at\"]),\n",
    "})\n",
    "\n",
    "# Save simplified file\n",
    "new_df.to_csv(\"sampleData/sheets_archive_old.csv\", index=False)"
   ]
  },
  {
   "cell_type": "code",
   "execution_count": 5,
   "metadata": {},
   "outputs": [],
   "source": [
    "df = pd.read_csv(\"sampleData/sheets_archive_raw.csv\")\n",
    "\n",
    "# Extract and transform\n",
    "new_df = pd.DataFrame({\n",
    "    \"Order Date\": pd.to_datetime(df[\"Order Date\"]),\n",
    "    \"SKU\": df[\"SKU\"],\n",
    "    \"Item\": df[\"Item\"],\n",
    "    \"Variant\": df[\"Variant\"],\n",
    "    \"Quantity\": df[\"Quantity\"],\n",
    "    \"Value\": df[\"Order Value\"],\n",
    "    \"Delivery Date\": pd.to_datetime(df[\"Delivery Date\"]),\n",
    "    \"Delivery Time\": pd.to_datetime(df[\"Delivery Date\"]),\n",
    "})\n",
    "# Save simplified file\n",
    "new_df.to_csv(\"sampleData/sheets_archive.csv\", index=False)"
   ]
  },
  {
   "cell_type": "code",
   "execution_count": 8,
   "metadata": {},
   "outputs": [],
   "source": [
    "df = pd.read_csv(\"sampleData/sheets_raw.tsv\", sep='\\t')\n",
    "\n",
    "# Extract and transform\n",
    "new_df = pd.DataFrame({\n",
    "    \"Order Date\": pd.to_datetime(df[\"Order Date\"]),\n",
    "    \"SKU\": df[\"SKU\"],\n",
    "    \"Item\": df[\"Item\"],\n",
    "    \"Variant\": df[\"Variant\"],\n",
    "    \"Quantity\": df[\"Quantity\"],\n",
    "    \"Value\": df[\"Order Value\"],\n",
    "    \"Delivery Date\": pd.to_datetime(df[\"Delivery Date\"]),\n",
    "    \"Delivery Time\": pd.to_datetime(df[\"Delivery Date\"]),\n",
    "})\n",
    "# Save simplified file\n",
    "new_df.to_csv(\"sampleData/sheets.csv\", index=False)"
   ]
  },
  {
   "cell_type": "code",
   "execution_count": 9,
   "metadata": {},
   "outputs": [],
   "source": [
    "df = pd.read_csv(\"sampleData/lark_raw.csv\")\n",
    "\n",
    "# Extract and transform\n",
    "new_df_lark = pd.DataFrame({\n",
    "    \"Order Date\": pd.to_datetime(df[\"Order Date\"]).dt.date,\n",
    "    \"SKU\": df[\"SKU\"],\n",
    "    \"Item\": df[\"Item\"],\n",
    "    \"Variant\": df[\"Variant\"],\n",
    "    \"Quantity\": df[\"Quantity\"],\n",
    "    \"Delivery Date\": pd.to_datetime(df[\"Delivery Date\"], errors=\"coerce\").dt.date,\n",
    "    \"Delivery Time\": pd.to_datetime(df[\"Delivery Date\"], errors=\"coerce\").dt.strftime(\"%H:%M:%S\"),\n",
    "})\n",
    "\n",
    "# Save simplified file\n",
    "new_df_lark.to_csv(\"sampleData/lark.csv\", index=False)"
   ]
  }
 ],
 "metadata": {
  "kernelspec": {
   "display_name": ".venv",
   "language": "python",
   "name": "python3"
  },
  "language_info": {
   "codemirror_mode": {
    "name": "ipython",
    "version": 3
   },
   "file_extension": ".py",
   "mimetype": "text/x-python",
   "name": "python",
   "nbconvert_exporter": "python",
   "pygments_lexer": "ipython3",
   "version": "3.9.12"
  }
 },
 "nbformat": 4,
 "nbformat_minor": 2
}
