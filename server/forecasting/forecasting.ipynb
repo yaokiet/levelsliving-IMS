{
 "cells": [
  {
   "cell_type": "code",
   "execution_count": 307,
   "metadata": {},
   "outputs": [
    {
     "name": "stdout",
     "output_type": "stream",
     "text": [
      "/Users/joelsng/Documents/GitHub/levelsliving-IMS/.venv/bin/python: No module named pip\n",
      "Note: you may need to restart the kernel to use updated packages.\n",
      "Traceback (most recent call last):\n",
      "  File \"<frozen runpy>\", line 198, in _run_module_as_main\n",
      "  File \"<frozen runpy>\", line 88, in _run_code\n",
      "  File \"/Users/joelsng/Documents/GitHub/levelsliving-IMS/.venv/lib/python3.12/site-packages/pip/__main__.py\", line 22, in <module>\n",
      "    from pip._internal.cli.main import main as _main\n",
      "  File \"/Users/joelsng/Documents/GitHub/levelsliving-IMS/.venv/lib/python3.12/site-packages/pip/_internal/__init__.py\", line 3, in <module>\n",
      "    from pip._internal.utils import _log\n",
      "ModuleNotFoundError: No module named 'pip._internal.utils'\n",
      "Note: you may need to restart the kernel to use updated packages.\n",
      "Collecting xgboost\n",
      "  Using cached xgboost-3.0.5-py3-none-macosx_12_0_arm64.whl.metadata (2.1 kB)\n",
      "Collecting numpy (from xgboost)\n",
      "  Using cached numpy-2.3.4-cp312-cp312-macosx_14_0_arm64.whl.metadata (62 kB)\n",
      "Collecting scipy (from xgboost)\n",
      "  Using cached scipy-1.16.2-cp312-cp312-macosx_14_0_arm64.whl.metadata (62 kB)\n",
      "Using cached xgboost-3.0.5-py3-none-macosx_12_0_arm64.whl (2.0 MB)\n",
      "Using cached numpy-2.3.4-cp312-cp312-macosx_14_0_arm64.whl (5.1 MB)\n",
      "Using cached scipy-1.16.2-cp312-cp312-macosx_14_0_arm64.whl (20.9 MB)\n",
      "\u001b[33mWARNING: Ignoring invalid distribution ~ip (/Users/joelsng/Documents/GitHub/levelsliving-IMS/.venv/lib/python3.12/site-packages)\u001b[0m\u001b[33m\n",
      "\u001b[0mInstalling collected packages: numpy, scipy, xgboost\n",
      "Successfully installed numpy-2.3.4 scipy-1.16.2 xgboost-3.0.5\n",
      "Note: you may need to restart the kernel to use updated packages.\n"
     ]
    }
   ],
   "source": [
    "%pip install pandas matplotlib\n",
    "%pip install scikit-learn\n",
    "%pip install xgboost"
   ]
  },
  {
   "cell_type": "code",
   "execution_count": 428,
   "metadata": {},
   "outputs": [],
   "source": [
    "import pandas as pd\n",
    "import matplotlib as plt\n",
    "from datetime import timedelta"
   ]
  },
  {
   "cell_type": "code",
   "execution_count": 429,
   "metadata": {},
   "outputs": [],
   "source": [
    "df = pd.read_csv(\"sampleData/master_orders.csv\")\n",
    "df[\"Order Date\"] = pd.to_datetime(df[\"Order Date\"], utc=True)\n",
    "df = df.sort_values(\"Order Date\")"
   ]
  },
  {
   "cell_type": "code",
   "execution_count": 430,
   "metadata": {},
   "outputs": [
    {
     "name": "stdout",
     "output_type": "stream",
     "text": [
      "<class 'pandas.core.frame.DataFrame'>\n",
      "Index: 17684 entries, 17563 to 1685\n",
      "Data columns (total 7 columns):\n",
      " #   Column         Non-Null Count  Dtype              \n",
      "---  ------         --------------  -----              \n",
      " 0   Order Date     17506 non-null  datetime64[ns, UTC]\n",
      " 1   SKU            16507 non-null  object             \n",
      " 2   Item           17683 non-null  object             \n",
      " 3   Variant        14338 non-null  object             \n",
      " 4   Quantity       17663 non-null  float64            \n",
      " 5   Delivery Date  11825 non-null  object             \n",
      " 6   Delivery Time  11573 non-null  object             \n",
      "dtypes: datetime64[ns, UTC](1), float64(1), object(5)\n",
      "memory usage: 1.1+ MB\n",
      "None\n"
     ]
    }
   ],
   "source": [
    "print(df.info())"
   ]
  },
  {
   "cell_type": "markdown",
   "metadata": {},
   "source": [
    "# Aggregate based on monthly"
   ]
  },
  {
   "cell_type": "code",
   "execution_count": 431,
   "metadata": {},
   "outputs": [],
   "source": [
    "monthly = (\n",
    "    df\n",
    "    .set_index(\"Order Date\")\n",
    "    .groupby([\"SKU\", pd.Grouper(freq=\"ME\")])[\"Quantity\"]\n",
    "    .sum()\n",
    "    .reset_index()\n",
    "    .rename(columns={\"Order Date\": \"Month\"})\n",
    "    .sort_values([\"SKU\", \"Month\"])\n",
    ")"
   ]
  },
  {
   "cell_type": "markdown",
   "metadata": {},
   "source": [
    "# Feature Engineering"
   ]
  },
  {
   "cell_type": "code",
   "execution_count": 432,
   "metadata": {},
   "outputs": [],
   "source": [
    "monthly[\"month_num\"] = monthly[\"Month\"].dt.month\n",
    "\n",
    "monthly[\"year\"] = monthly[\"Month\"].dt.year\n",
    "\n",
    "monthly[\"sku_id\"] = monthly[\"SKU\"].astype(\"category\").cat.codes\n",
    "\n",
    "# demand lag by x months\n",
    "monthly[\"lag_1\"] = monthly.groupby(\"SKU\")[\"Quantity\"].shift(1)\n",
    "monthly[\"lag_2\"] = monthly.groupby(\"SKU\")[\"Quantity\"].shift(2)\n",
    "monthly[\"lag_3\"] = monthly.groupby(\"SKU\")[\"Quantity\"].shift(3)\n",
    "\n",
    "# month sin/cos seasonality\n",
    "monthly[\"month_sin\"] = np.sin(2 * np.pi * monthly[\"month_num\"] / 12)\n",
    "monthly[\"month_cos\"] = np.cos(2 * np.pi * monthly[\"month_num\"] / 12)"
   ]
  },
  {
   "cell_type": "markdown",
   "metadata": {},
   "source": [
    "# Stratify SKUs into sales volume"
   ]
  },
  {
   "cell_type": "code",
   "execution_count": 433,
   "metadata": {},
   "outputs": [],
   "source": [
    "# total volume per SKU (use your monthly/weekly aggregated frame)\n",
    "sku_vol = weekly.groupby(\"SKU\")[\"Quantity\"].sum().sort_values(ascending=False)\n",
    "\n",
    "# cumulative revenue/volume share\n",
    "cum_share = (sku_vol.cumsum() / sku_vol.sum())\n",
    "\n",
    "bins   = [-np.inf, 0.70, 0.95, np.inf]\n",
    "labels = [\"highest\", \"medium\", \"rest\"]\n",
    "\n",
    "sku_tier = pd.cut(cum_share, bins=bins, labels=labels, include_lowest=True).astype(str)\n",
    "sku_tier.name = \"tier\""
   ]
  },
  {
   "cell_type": "code",
   "execution_count": 434,
   "metadata": {},
   "outputs": [
    {
     "name": "stdout",
     "output_type": "stream",
     "text": [
      "tier\n",
      "rest       835\n",
      "medium     465\n",
      "highest     38\n",
      "Name: count, dtype: int64\n",
      "tier\n",
      "rest       62.41%\n",
      "medium     34.75%\n",
      "highest     2.84%\n",
      "Name: proportion, dtype: object\n"
     ]
    }
   ],
   "source": [
    "print(sku_tier.value_counts())\n",
    "print((sku_tier.value_counts(normalize=True) * 100).round(2).astype(str) + \"%\")"
   ]
  },
  {
   "cell_type": "code",
   "execution_count": 435,
   "metadata": {},
   "outputs": [],
   "source": [
    "tiered = monthly.merge(sku_tier, left_on=\"SKU\", right_index=True, how=\"inner\")"
   ]
  },
  {
   "cell_type": "markdown",
   "metadata": {},
   "source": [
    "# Train Test Split"
   ]
  },
  {
   "cell_type": "code",
   "execution_count": 436,
   "metadata": {},
   "outputs": [
    {
     "name": "stdout",
     "output_type": "stream",
     "text": [
      "Requirement already satisfied: scikit-learn in /Users/joelsng/Documents/GitHub/levelsliving-IMS/.venv/lib/python3.12/site-packages (1.7.2)\n",
      "Requirement already satisfied: numpy>=1.22.0 in /Users/joelsng/Documents/GitHub/levelsliving-IMS/.venv/lib/python3.12/site-packages (from scikit-learn) (2.3.4)\n",
      "Requirement already satisfied: scipy>=1.8.0 in /Users/joelsng/Documents/GitHub/levelsliving-IMS/.venv/lib/python3.12/site-packages (from scikit-learn) (1.16.2)\n",
      "Requirement already satisfied: joblib>=1.2.0 in /Users/joelsng/Documents/GitHub/levelsliving-IMS/.venv/lib/python3.12/site-packages (from scikit-learn) (1.5.2)\n",
      "Requirement already satisfied: threadpoolctl>=3.1.0 in /Users/joelsng/Documents/GitHub/levelsliving-IMS/.venv/lib/python3.12/site-packages (from scikit-learn) (3.6.0)\n"
     ]
    }
   ],
   "source": [
    "!pip install scikit-learn"
   ]
  },
  {
   "cell_type": "code",
   "execution_count": 437,
   "metadata": {},
   "outputs": [],
   "source": [
    "from sklearn.model_selection import train_test_split"
   ]
  },
  {
   "cell_type": "code",
   "execution_count": 438,
   "metadata": {},
   "outputs": [],
   "source": [
    "tiered[\"Quantity\"] = tiered[\"Quantity\"].clip(lower=1)\n",
    "tiered[\"lag_1\"] = tiered[\"lag_1\"].clip(lower=1)\n",
    "\n",
    "tiered[\"log_qty\"] = np.log1p(tiered[\"Quantity\"])\n"
   ]
  },
  {
   "cell_type": "code",
   "execution_count": 439,
   "metadata": {},
   "outputs": [],
   "source": [
    "X = monthly[[\"month_num\", \"year\", \"sku_id\",\"lag_1\", \"lag_2\", \"lag_3\", \"month_sin\", \"month_cos\"]]\n",
    "y = monthly[\"Quantity\"]\n",
    "X_train, X_test, y_train, y_test = train_test_split(X, y, test_size=0.2, shuffle=False)\n"
   ]
  },
  {
   "cell_type": "markdown",
   "metadata": {},
   "source": [
    "# Training and Evaluation"
   ]
  },
  {
   "cell_type": "code",
   "execution_count": 442,
   "metadata": {},
   "outputs": [],
   "source": [
    "def train_xgb_core_api(df_tier, feat=(\"month_num\", \"year\", \"sku_id\",\"lag_1\", \"lag_2\", \"lag_3\", \"month_sin\", \"month_cos\")):\n",
    "    df_tier = df_tier.dropna(subset=[\"lag_1\"]).reset_index(drop=True)\n",
    "    if len(df_tier) < 20:\n",
    "        return None, None, None, None, None  # too small\n",
    "\n",
    "    X = df_tier[list(feat)].to_numpy(dtype=float)\n",
    "    y = df_tier[\"Quantity\"].to_numpy(dtype=float)\n",
    "\n",
    "    split_idx = int(len(df_tier) * 0.8)\n",
    "    X_tr, X_va = X[:split_idx], X[split_idx:]\n",
    "    y_tr, y_va = y[:split_idx], y[split_idx:]\n",
    "\n",
    "    dtr = xgb.DMatrix(X_tr, label=y_tr, feature_names=list(feat))\n",
    "    dva = xgb.DMatrix(X_va, label=y_va, feature_names=list(feat))\n",
    "\n",
    "    params = {\n",
    "        \"objective\": \"reg:squarederror\",\n",
    "        \"eta\": 0.1,\n",
    "        \"max_depth\": 4,\n",
    "        \"subsample\": 0.9,\n",
    "        \"colsample_bytree\": 0.9,\n",
    "        \"eval_metric\": [\"rmse\",\"mae\"],\n",
    "        \"seed\": 42,\n",
    "    }\n",
    "    ev = [(dtr, \"train\"), (dva, \"valid\")]\n",
    "    bst = xgb.train(params, dtr, num_boost_round=500, evals=ev, early_stopping_rounds=50, verbose_eval=False)\n",
    "\n",
    "    pred = bst.predict(dva, iteration_range=(0, bst.best_iteration + 1))\n",
    "    mae = float(np.mean(np.abs(y_va - pred)))\n",
    "    rmse = float(np.sqrt(np.mean((y_va - pred)**2)))\n",
    "    mape = float(np.mean(np.abs((y_va - pred) / np.clip(y_va, 1e-8, None))) * 100)\n",
    "    smape = 100 * np.mean(2 * np.abs(y_va - pred) / (np.abs(y_va) + np.abs(pred) + 1e-8))\n",
    "\n",
    "    return bst, mae, rmse, mape, smape, list(feat)"
   ]
  },
  {
   "cell_type": "code",
   "execution_count": 447,
   "metadata": {},
   "outputs": [
    {
     "name": "stdout",
     "output_type": "stream",
     "text": [
      "[highest] MAE=5.371  RMSE=6.673  MAPE=134.24%  SMAPE=55.12%  (best_iter=47)\n",
      "[medium] MAE=1.435  RMSE=3.104  MAPE=77.32%  SMAPE=52.47%  (best_iter=31)\n",
      "[rest] MAE=0.019  RMSE=0.022  MAPE=1.86%  SMAPE=1.83%  (best_iter=11)\n",
      "             SKU                     Month  predicted_qty     tier\n",
      "0   Basic/Single 2025-01-31 00:00:00+00:00      13.760201  highest\n",
      "1           CH-1 2025-09-30 00:00:00+00:00       9.731747  highest\n",
      "2             CU 2025-10-31 00:00:00+00:00      24.609013  highest\n",
      "3           CU-1 2025-10-31 00:00:00+00:00      25.975203  highest\n",
      "4           DC12 2024-02-29 00:00:00+00:00      11.686588  highest\n",
      "5   DC1254/OK-WH 2023-07-31 00:00:00+00:00      30.210798  highest\n",
      "6    DC1254/OKWH 2024-09-30 00:00:00+00:00       6.869424  highest\n",
      "7           DR50 2025-04-30 00:00:00+00:00      17.071932  highest\n",
      "8    SB4301/OKWH 2024-05-31 00:00:00+00:00       4.351573  highest\n",
      "9           SC15 2025-10-31 00:00:00+00:00       7.581873  highest\n",
      "10       SC15-AD 2025-10-31 00:00:00+00:00       4.164562  highest\n",
      "11      SC15/WAL 2025-10-31 00:00:00+00:00       5.328687  highest\n",
      "12   SC15/WAL-AD 2025-10-31 00:00:00+00:00       4.495797  highest\n",
      "13          SC17 2023-10-31 00:00:00+00:00       4.740170  highest\n",
      "14          SC18 2024-09-30 00:00:00+00:00       7.418148  highest\n",
      "15   SC18/WAL-AD 2025-09-30 00:00:00+00:00       7.418148  highest\n",
      "16           SC4 2025-09-30 00:00:00+00:00       7.418148  highest\n",
      "17       SC4/WAL 2025-09-30 00:00:00+00:00       7.418148  highest\n",
      "18           SC5 2025-10-31 00:00:00+00:00       7.581873  highest\n",
      "19        SC5-AD 2025-09-30 00:00:00+00:00       7.418148  highest\n"
     ]
    }
   ],
   "source": [
    "models = {}\n",
    "metrics = []\n",
    "future_all = []\n",
    "\n",
    "# --- next-month forecast per tier (DROP-IN FIX) ---\n",
    "for tier in [\"highest\", \"medium\", \"rest\"]:\n",
    "    sub = tiered[tiered[\"tier\"] == tier].copy()\n",
    "    bst, mae, rmse, mape, smape, feat = train_xgb_core_api(sub)\n",
    "    if bst is None:\n",
    "        print(f\"[{tier}] skipped (not enough data)\")\n",
    "        continue\n",
    "    models[tier] = (bst, feat)\n",
    "    print(f\"[{tier}] MAE={mae:.3f}  RMSE={rmse:.3f}  MAPE={mape:.2f}%  SMAPE={smape:.2f}%  (best_iter={bst.best_iteration})\")\n",
    "\n",
    "    # last row per SKU\n",
    "    sub = sub.sort_values([\"SKU\",\"Month\"])\n",
    "    last_rows = sub.groupby(\"SKU\", as_index=False).tail(1).reset_index(drop=True)\n",
    "\n",
    "    # maps for prior 2/3 months\n",
    "    def nth_from_end(s, n):\n",
    "        import numpy as np\n",
    "        return s.iloc[-n] if len(s) >= n else np.nan\n",
    "\n",
    "    lag2_map = sub.groupby(\"SKU\")[\"Quantity\"].apply(lambda s: nth_from_end(s, 2))\n",
    "    lag3_map = sub.groupby(\"SKU\")[\"Quantity\"].apply(lambda s: nth_from_end(s, 3))\n",
    "\n",
    "    # future date + features\n",
    "    fut_month = pd.to_datetime(last_rows[\"Month\"]) + pd.offsets.MonthEnd(1)\n",
    "    fut_month_num = fut_month.dt.month\n",
    "\n",
    "    future = pd.DataFrame({\n",
    "        \"SKU\": last_rows[\"SKU\"],\n",
    "        \"Month\": fut_month,\n",
    "        \"month_num\": fut_month_num,\n",
    "        \"year\": fut_month.dt.year,\n",
    "        \"sku_id\": last_rows[\"sku_id\"],\n",
    "        \"lag_1\": last_rows[\"Quantity\"],                      # last observed\n",
    "        \"lag_2\": last_rows[\"SKU\"].map(lag2_map),             # second last\n",
    "        \"lag_3\": last_rows[\"SKU\"].map(lag3_map),             # third last\n",
    "        \"month_sin\": np.sin(2 * np.pi * fut_month_num / 12),\n",
    "        \"month_cos\": np.cos(2 * np.pi * fut_month_num / 12),\n",
    "    })\n",
    "\n",
    "    # ensure exact feature set/order\n",
    "    for c in feat:\n",
    "        if c not in future.columns:\n",
    "            future[c] = np.nan\n",
    "    future = future[list(feat)]\n",
    "\n",
    "    dfut = xgb.DMatrix(future.to_numpy(dtype=float), feature_names=list(feat))\n",
    "    preds = models[tier][0].predict(dfut, iteration_range=(0, models[tier][0].best_iteration + 1))\n",
    "\n",
    "    out = last_rows[[\"SKU\"]].copy()\n",
    "    out[\"Month\"] = fut_month\n",
    "    out[\"predicted_qty\"] = preds\n",
    "    out[\"tier\"] = tier\n",
    "    future_all.append(out[[\"SKU\",\"Month\",\"predicted_qty\",\"tier\"]])\n",
    "\n",
    "future_preds = pd.concat(future_all, ignore_index=True)\n",
    "print(future_preds.head(20))\n"
   ]
  },
  {
   "cell_type": "code",
   "execution_count": null,
   "metadata": {},
   "outputs": [],
   "source": []
  },
  {
   "cell_type": "code",
   "execution_count": null,
   "metadata": {},
   "outputs": [],
   "source": []
  },
  {
   "cell_type": "code",
   "execution_count": null,
   "metadata": {},
   "outputs": [],
   "source": []
  },
  {
   "cell_type": "code",
   "execution_count": null,
   "metadata": {},
   "outputs": [],
   "source": []
  },
  {
   "cell_type": "code",
   "execution_count": null,
   "metadata": {},
   "outputs": [],
   "source": []
  }
 ],
 "metadata": {
  "kernelspec": {
   "display_name": ".venv",
   "language": "python",
   "name": "python3"
  },
  "language_info": {
   "codemirror_mode": {
    "name": "ipython",
    "version": 3
   },
   "file_extension": ".py",
   "mimetype": "text/x-python",
   "name": "python",
   "nbconvert_exporter": "python",
   "pygments_lexer": "ipython3",
   "version": "3.12.7"
  }
 },
 "nbformat": 4,
 "nbformat_minor": 2
}
