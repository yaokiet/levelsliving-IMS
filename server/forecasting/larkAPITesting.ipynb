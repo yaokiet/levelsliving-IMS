{
 "cells": [
  {
   "cell_type": "code",
   "execution_count": 5,
   "metadata": {},
   "outputs": [
    {
     "name": "stdout",
     "output_type": "stream",
     "text": [
      "Collecting requests\n",
      "  Using cached requests-2.32.5-py3-none-any.whl.metadata (4.9 kB)\n",
      "Collecting charset_normalizer<4,>=2 (from requests)\n",
      "  Using cached charset_normalizer-3.4.3-cp39-cp39-macosx_10_9_universal2.whl.metadata (36 kB)\n",
      "Collecting idna<4,>=2.5 (from requests)\n",
      "  Using cached idna-3.10-py3-none-any.whl.metadata (10 kB)\n",
      "Collecting urllib3<3,>=1.21.1 (from requests)\n",
      "  Using cached urllib3-2.5.0-py3-none-any.whl.metadata (6.5 kB)\n",
      "Collecting certifi>=2017.4.17 (from requests)\n",
      "  Using cached certifi-2025.8.3-py3-none-any.whl.metadata (2.4 kB)\n",
      "Using cached requests-2.32.5-py3-none-any.whl (64 kB)\n",
      "Using cached charset_normalizer-3.4.3-cp39-cp39-macosx_10_9_universal2.whl (207 kB)\n",
      "Using cached idna-3.10-py3-none-any.whl (70 kB)\n",
      "Using cached urllib3-2.5.0-py3-none-any.whl (129 kB)\n",
      "Using cached certifi-2025.8.3-py3-none-any.whl (161 kB)\n",
      "Installing collected packages: urllib3, idna, charset_normalizer, certifi, requests\n",
      "\u001b[2K   \u001b[90m━━━━━━━━━━━━━━━━━━━━━━━━━━━━━━━━━━━━━━━━\u001b[0m \u001b[32m5/5\u001b[0m [requests]\n",
      "\u001b[1A\u001b[2KSuccessfully installed certifi-2025.8.3 charset_normalizer-3.4.3 idna-3.10 requests-2.32.5 urllib3-2.5.0\n"
     ]
    }
   ],
   "source": [
    "!pip install requests"
   ]
  },
  {
   "cell_type": "markdown",
   "metadata": {},
   "source": [
    "# Get custom tenant access token"
   ]
  },
  {
   "cell_type": "code",
   "execution_count": 8,
   "metadata": {},
   "outputs": [
    {
     "name": "stdout",
     "output_type": "stream",
     "text": [
      "200\n",
      "{'code': 0, 'expire': 6920, 'msg': 'ok', 'tenant_access_token': 't-g2058n6xK2JYRBXQTE5JNPFNO76X7NDNDKJ5DB4D'}\n"
     ]
    }
   ],
   "source": [
    "url = \"https://open.larksuite.com/open-apis/auth/v3/tenant_access_token/internal\"\n",
    "payload = {\n",
    "  \"app_id\": \"cli_a82f3f7173b8ddbf\",\n",
    "  \"app_secret\": \"RvSXgqe1B7dEHmBCumiGmhqYMdp3ZMd3\"\n",
    "}\n",
    "response = requests.post(url, json=payload)\n",
    "print(response.status_code)\n",
    "print(response.json())"
   ]
  },
  {
   "cell_type": "code",
   "execution_count": 9,
   "metadata": {},
   "outputs": [],
   "source": [
    "tenant_access_token = response.json()[\"tenant_access_token\"]"
   ]
  },
  {
   "cell_type": "markdown",
   "metadata": {},
   "source": [
    "# Get Spreadsheet Metadata"
   ]
  },
  {
   "cell_type": "code",
   "execution_count": null,
   "metadata": {},
   "outputs": [],
   "source": [
    "spreadsheetToken = \"MAqqscsSrh5UUhtrcgputw8Qsmc\""
   ]
  },
  {
   "cell_type": "code",
   "execution_count": 12,
   "metadata": {},
   "outputs": [
    {
     "name": "stdout",
     "output_type": "stream",
     "text": [
      "200\n",
      "{'code': 0, 'data': {'properties': {'ownerUser': 7164578400466649094, 'revision': 6, 'sheetCount': 2, 'title': 'My first spreadsheet'}, 'sheets': [{'columnCount': 20, 'frozenColCount': 0, 'frozenRowCount': 0, 'index': 0, 'rowCount': 200, 'sheetId': '95e414', 'title': 'Sheet1'}, {'columnCount': 20, 'frozenColCount': 0, 'frozenRowCount': 0, 'index': 1, 'rowCount': 200, 'sheetId': 'fcXhtW', 'title': 'Sheet2'}], 'spreadsheetToken': 'MAqqscsSrh5UUhtrcgputw8Qsmc'}, 'msg': 'success'}\n"
     ]
    }
   ],
   "source": [
    "url = f\"https://open.larksuite.com/open-apis/sheets/v2/spreadsheets/{spreadsheetToken}/metainfo\"\n",
    "\n",
    "headers = {\n",
    "    \"Authorization\": f\"Bearer {tenant_access_token}\"\n",
    "}\n",
    "\n",
    "response = requests.get(url, headers=headers)\n",
    "\n",
    "print(response.status_code)\n",
    "print(response.json())"
   ]
  },
  {
   "cell_type": "markdown",
   "metadata": {},
   "source": [
    "# Reading Sheet Values"
   ]
  },
  {
   "cell_type": "code",
   "execution_count": 14,
   "metadata": {},
   "outputs": [],
   "source": [
    "sheetId = \"95e414\"\n",
    "ranges = \"A1:C20\""
   ]
  },
  {
   "cell_type": "code",
   "execution_count": 15,
   "metadata": {},
   "outputs": [
    {
     "name": "stdout",
     "output_type": "stream",
     "text": [
      "200\n",
      "{'code': 0, 'data': {'revision': 6, 'spreadsheetToken': 'MAqqscsSrh5UUhtrcgputw8Qsmc', 'totalCells': 60, 'valueRanges': [{'majorDimension': 'ROWS', 'range': '95e414!A1:C20', 'revision': 6, 'values': [['test', None, None], [None, None, None], [None, None, None], [None, None, None], [None, None, None], [None, None, None], [None, None, None], [None, None, None], [None, None, None], [None, None, None], [None, None, None], [None, None, None], [None, None, None], [None, None, None], [None, None, None], [None, None, None], [None, None, None], [None, None, None], [None, None, None], [None, None, None]]}]}, 'msg': 'success'}\n"
     ]
    }
   ],
   "source": [
    "url = f\"https://open.larksuite.com/open-apis/sheets/v2/spreadsheets/{spreadsheetToken}/values_batch_get\"\n",
    "\n",
    "params = {\n",
    "    \"ranges\": f\"{sheetId}!{ranges}\"\n",
    "}\n",
    "\n",
    "response = requests.get(url, headers=headers, params=params)\n",
    "\n",
    "print(response.status_code)\n",
    "data = response.json()\n",
    "print(data)"
   ]
  },
  {
   "cell_type": "markdown",
   "metadata": {},
   "source": [
    "# Writing Test Data"
   ]
  },
  {
   "cell_type": "code",
   "execution_count": 18,
   "metadata": {},
   "outputs": [
    {
     "name": "stdout",
     "output_type": "stream",
     "text": [
      "403\n",
      "{'code': 91403, 'msg': 'Forbidden', 'data': {}}\n"
     ]
    }
   ],
   "source": [
    "import requests\n",
    "\n",
    "headers = {\n",
    "    \"Authorization\": f\"Bearer {tenant_access_token}\",\n",
    "    \"Content-Type\": \"application/json; charset=utf-8\",\n",
    "}\n",
    "\n",
    "url = f\"https://open.larksuite.com/open-apis/sheets/v2/spreadsheets/{spreadsheetToken}/values_batch_update\"\n",
    "\n",
    "body = {\n",
    "    \"valueRanges\": [\n",
    "        {\n",
    "            \"range\": f\"{sheetId}!B2\",   # single cell\n",
    "            \"values\": [[\"TEST_PLACEHOLDER\"]]\n",
    "        }\n",
    "    ]\n",
    "}\n",
    "\n",
    "resp = requests.post(url, headers=headers, json=body)\n",
    "print(resp.status_code)\n",
    "print(resp.json())\n"
   ]
  },
  {
   "cell_type": "code",
   "execution_count": null,
   "metadata": {},
   "outputs": [],
   "source": [
    "TYPES = [\"Type 1\", \"Type 2\", \"Type 3\"]\n",
    "VARIANTS = [\"Size S\", \"Size M\", \"Size L\", \"Red\", \"Blue\", \"Black\"]"
   ]
  },
  {
   "cell_type": "code",
   "execution_count": 16,
   "metadata": {},
   "outputs": [
    {
     "name": "stdout",
     "output_type": "stream",
     "text": [
      "403\n",
      "{'code': 91403, 'msg': 'Forbidden', 'data': {}}\n"
     ]
    }
   ],
   "source": [
    "import random\n",
    "import string\n",
    "import requests\n",
    "\n",
    "HEADERS = {\n",
    "    \"Authorization\": f\"Bearer {tenant_access_token}\",\n",
    "    \"Content-Type\": \"application/json; charset=utf-8\",\n",
    "}\n",
    "\n",
    "# Fake data helpers\n",
    "TYPES = [\"Type1\", \"Type2\", \"Type3\"]\n",
    "VARIANTS = [\"Size S\", \"Size M\", \"Size L\", \"Red\", \"Blue\", \"Black\"]\n",
    "\n",
    "def rand_id():\n",
    "    return random.randint(10_000, 99_999)\n",
    "\n",
    "def rand_sku():\n",
    "    return \"SKU-\" + \"\".join(random.choices(string.ascii_uppercase + string.digits, k=6))\n",
    "\n",
    "def rand_type():\n",
    "    return random.choice(TYPES)\n",
    "\n",
    "def rand_item_name():\n",
    "    nouns = [\"name1\", \"name2\", \"name3\"]\n",
    "    adjectives = [\"Pro\", \"Mini\", \"Max\", \"Ultra\", \"Lite\", \"Plus\"]\n",
    "    return f\"{random.choice(nouns)} {random.choice(adjectives)}\"\n",
    "\n",
    "def rand_variant():\n",
    "    return random.choice(VARIANTS)\n",
    "\n",
    "def rand_qty():\n",
    "    return random.randint(1, 250)\n",
    "\n",
    "def rand_threshold():\n",
    "    return max(1, random.randint(1, 50))\n",
    "\n",
    "# === Build 5 rows matching columns A..G ===\n",
    "rows = []\n",
    "for _ in range(5):\n",
    "    rows.append([\n",
    "        rand_id(),          # ID (A)\n",
    "        rand_sku(),         # SKU (B)\n",
    "        rand_type(),        # Type (C)\n",
    "        rand_item_name(),   # Item Name (D)\n",
    "        rand_variant(),     # Variant (E)\n",
    "        rand_qty(),         # Qty (F)\n",
    "        rand_threshold(),   # Threshold Qty (G)\n",
    "    ])\n",
    "\n",
    "# === Write to A2:G6 (headers assumed on row 1) ===\n",
    "url = f\"https://open.larksuite.com/open-apis/sheets/v2/spreadsheets/{spreadsheetToken}/values_batch_update\"\n",
    "body = {\n",
    "    \"valueRanges\": [\n",
    "        {\n",
    "            \"range\": f\"{sheetId}!A2:G{2 + len(rows) - 1}\",\n",
    "            \"values\": rows\n",
    "        }\n",
    "    ]\n",
    "}\n",
    "\n",
    "resp = requests.post(url, headers=HEADERS, json=body, timeout=30)\n",
    "print(resp.status_code)\n",
    "print(resp.json())\n"
   ]
  },
  {
   "cell_type": "markdown",
   "metadata": {},
   "source": []
  }
 ],
 "metadata": {
  "kernelspec": {
   "display_name": ".venv",
   "language": "python",
   "name": "python3"
  },
  "language_info": {
   "codemirror_mode": {
    "name": "ipython",
    "version": 3
   },
   "file_extension": ".py",
   "mimetype": "text/x-python",
   "name": "python",
   "nbconvert_exporter": "python",
   "pygments_lexer": "ipython3",
   "version": "3.9.6"
  }
 },
 "nbformat": 4,
 "nbformat_minor": 2
}
